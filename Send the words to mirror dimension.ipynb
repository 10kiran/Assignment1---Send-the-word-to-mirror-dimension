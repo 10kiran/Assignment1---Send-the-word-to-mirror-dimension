{
 "cells": [
  {
   "cell_type": "markdown",
   "id": "51f45c0d",
   "metadata": {},
   "source": [
    "Assignment 1\n",
    "Send the words to mirror Dimension"
   ]
  },
  {
   "cell_type": "code",
   "execution_count": 12,
   "id": "5b4bf1f8",
   "metadata": {},
   "outputs": [
    {
     "name": "stdout",
     "output_type": "stream",
     "text": [
      "Input the word: Mirror\n",
      "rorriM : is the reversed word\n"
     ]
    }
   ],
   "source": [
    "word_to_reverse = input(\"Input the word: \")\n",
    "\n",
    "word_to_reverse = word_to_reverse[::-1]\n",
    "  \n",
    "print(word_to_reverse, ': is the reversed word')"
   ]
  },
  {
   "cell_type": "code",
   "execution_count": null,
   "id": "e29b03fe",
   "metadata": {},
   "outputs": [],
   "source": []
  }
 ],
 "metadata": {
  "kernelspec": {
   "display_name": "Python 3 (ipykernel)",
   "language": "python",
   "name": "python3"
  },
  "language_info": {
   "codemirror_mode": {
    "name": "ipython",
    "version": 3
   },
   "file_extension": ".py",
   "mimetype": "text/x-python",
   "name": "python",
   "nbconvert_exporter": "python",
   "pygments_lexer": "ipython3",
   "version": "3.9.7"
  }
 },
 "nbformat": 4,
 "nbformat_minor": 5
}
